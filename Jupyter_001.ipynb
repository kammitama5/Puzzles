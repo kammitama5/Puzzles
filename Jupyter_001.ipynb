{
 "cells": [
  {
   "cell_type": "code",
   "execution_count": 1,
   "metadata": {
    "collapsed": true
   },
   "outputs": [],
   "source": [
    "import pandas as pd"
   ]
  },
  {
   "cell_type": "code",
   "execution_count": 3,
   "metadata": {
    "collapsed": true
   },
   "outputs": [],
   "source": [
    "## missing data\n",
    "## duplicated data\n",
    "## incorrect data types"
   ]
  },
  {
   "cell_type": "code",
   "execution_count": 7,
   "metadata": {
    "collapsed": true
   },
   "outputs": [],
   "source": [
    "# methods for dealing with duplicates\n",
    "# df.duplicated()\n",
    "# sum(df.duplicated()) -> good for large data sets\n",
    "# df.drop_duplicates(inplace=True)\n",
    "# df.info() -> will give you info on each dataframe type\n",
    "#df['timestamp'] = pd.to_datetime(df['timestamp'])"
   ]
  },
  {
   "cell_type": "code",
   "execution_count": 8,
   "metadata": {
    "collapsed": true
   },
   "outputs": [],
   "source": [
    "# use df.info() to find null values"
   ]
  },
  {
   "cell_type": "code",
   "execution_count": 9,
   "metadata": {
    "collapsed": true
   },
   "outputs": [],
   "source": [
    "# missing data \n",
    "# mean = df['view_duration'].mean()\n",
    "#df['view_duration'] = df['view_duration'].fillna(mean) -> fill duration with the mean\n",
    "# can also use df['view_duration'].fillna(mean, inplace=True)"
   ]
  },
  {
   "cell_type": "code",
   "execution_count": 10,
   "metadata": {},
   "outputs": [
    {
     "data": {
      "text/plain": [
       "'\\n#import pandas and load cancer data\\nimport pandas as pd\\n#check which columns have missing values with info()\\ndata = pd.read_csv(\"cancer_data_means.csv\")\\n#use means to fill in missing values\\nmean = data.mean()\\ndata.fillna(mean, inplace=True)\\n#confirm your correction with info()\\ndata.info()\\n#check for duplicates in the data\\nsum(data.duplicated())\\n#drop duplicates\\ndata.drop_duplicates(inplace=True)\\n#confirm correction by rechecking for duplicates\\nsum(data.duplicated())\\n'"
      ]
     },
     "execution_count": 10,
     "metadata": {},
     "output_type": "execute_result"
    }
   ],
   "source": [
    "#my solutions:\n",
    "\"\"\"\n",
    "#import pandas and load cancer data\n",
    "import pandas as pd\n",
    "#check which columns have missing values with info()\n",
    "data = pd.read_csv(\"cancer_data_means.csv\")\n",
    "#use means to fill in missing values\n",
    "mean = data.mean()\n",
    "data.fillna(mean, inplace=True)\n",
    "#confirm your correction with info()\n",
    "data.info()\n",
    "#check for duplicates in the data\n",
    "sum(data.duplicated())\n",
    "#drop duplicates\n",
    "data.drop_duplicates(inplace=True)\n",
    "#confirm correction by rechecking for duplicates\n",
    "sum(data.duplicated())\n",
    "\"\"\""
   ]
  },
  {
   "cell_type": "code",
   "execution_count": 11,
   "metadata": {},
   "outputs": [
    {
     "data": {
      "text/plain": [
       "'\\nremove \"_mean\" from column names\\nnew_labels = []\\nfor col in df.columns:\\n    if \\'_mean\\' in col:\\n        new_labels.append(col[:-5]) #exclude last 6 characters\\n    else:\\n        new_labels.append(col)\\n        \\n# new labels for our columns\\nnew_labels\\n\\n# assign new labels to columns in datafram\\ndf.columns = new_labels\\n\\n# display first few rows of dataframe to confirm changes\\ndf.head()\\n\\n# save this for later\\ndf.to_csv(\\'cancer_data-edited.csv\\', index=False)\\n\\n'"
      ]
     },
     "execution_count": 11,
     "metadata": {},
     "output_type": "execute_result"
    }
   ],
   "source": [
    "\"\"\"\n",
    "remove \"_mean\" from column names\n",
    "new_labels = []\n",
    "for col in df.columns:\n",
    "    if '_mean' in col:\n",
    "        new_labels.append(col[:-5]) #exclude last 6 characters\n",
    "    else:\n",
    "        new_labels.append(col)\n",
    "        \n",
    "# new labels for our columns\n",
    "new_labels\n",
    "\n",
    "# assign new labels to columns in datafram\n",
    "df.columns = new_labels\n",
    "\n",
    "# display first few rows of dataframe to confirm changes\n",
    "df.head()\n",
    "\n",
    "# save this for later\n",
    "df.to_csv('cancer_data-edited.csv', index=False)\n",
    "\n",
    "\"\"\""
   ]
  },
  {
   "cell_type": "code",
   "execution_count": 12,
   "metadata": {
    "collapsed": true
   },
   "outputs": [],
   "source": [
    "# plotting data"
   ]
  },
  {
   "cell_type": "code",
   "execution_count": 16,
   "metadata": {},
   "outputs": [
    {
     "data": {
      "text/plain": [
       "\"\\nimport pandas as pd\\n% matplotlib inline # import matplotlib\\n# df_census = pd.read_csv('census_income_data.csv)\\n#df_census.info()\\n\""
      ]
     },
     "execution_count": 16,
     "metadata": {},
     "output_type": "execute_result"
    }
   ],
   "source": [
    "\"\"\"\n",
    "import pandas as pd\n",
    "% matplotlib inline # import matplotlib\n",
    "# df_census = pd.read_csv('census_income_data.csv)\n",
    "#df_census.info()\n",
    "\"\"\""
   ]
  },
  {
   "cell_type": "code",
   "execution_count": 20,
   "metadata": {
    "collapsed": true
   },
   "outputs": [],
   "source": [
    "# HISTORGRAM\n",
    "# df_census.hist(figurize=(8,8))\n",
    "# : suppresses output\n",
    "# figurize=blah is for scaling to make larger, magnify\n",
    "# call on series object\n",
    "#df_census['age'].hist():\n",
    "#df_census['age].plot(kind='hist')\n",
    "# df_census['education'].value_counts()\n",
    "# df_census['education'].value_counts().plot(kind='bar')\n",
    "#create pie chart \n",
    "#df_census['workclass'].value_counts().plot(kind='pie',figsize=(8,8))"
   ]
  },
  {
   "cell_type": "code",
   "execution_count": 21,
   "metadata": {
    "collapsed": true
   },
   "outputs": [],
   "source": [
    "#pd.plotting.scatter_matrix(df_cancer, figsize=(15,15));"
   ]
  },
  {
   "cell_type": "code",
   "execution_count": 22,
   "metadata": {
    "collapsed": true
   },
   "outputs": [],
   "source": [
    "#specify x and y axes for single scatter plot\n",
    "#df_cancer.plot(x='compactness',y='concavity',kind='scatter');"
   ]
  },
  {
   "cell_type": "code",
   "execution_count": 23,
   "metadata": {
    "collapsed": true
   },
   "outputs": [],
   "source": [
    "#df_cancer['concave_points'.plot(kind='box')] -> box plot"
   ]
  },
  {
   "cell_type": "code",
   "execution_count": 24,
   "metadata": {},
   "outputs": [
    {
     "data": {
      "text/plain": [
       "\"\\nimports and load data\\nimport pandas as pd\\ndf = pd.read_csv('powerplant_data.csv')\\ndf.head()\\n# plot relationship between temperature and electrical output\\n% matplotlib inline\\ndf.plot(x='AT',y='PE',kind='scatter')\\n# plot distribution of humidity\\ndf['RH'].hist()\\n# plot box plots for each variable\\ndf['AT'].plot.box()\\ndf['V'].plot.box()\\ndf['AP'].plot.box()\\ndf['RH'].plot.box()\\ndf['PE'].plot.box()\\n\""
      ]
     },
     "execution_count": 24,
     "metadata": {},
     "output_type": "execute_result"
    }
   ],
   "source": [
    "\"\"\"\n",
    "imports and load data\n",
    "import pandas as pd\n",
    "df = pd.read_csv('powerplant_data.csv')\n",
    "df.head()\n",
    "# plot relationship between temperature and electrical output\n",
    "% matplotlib inline\n",
    "df.plot(x='AT',y='PE',kind='scatter')\n",
    "# plot distribution of humidity\n",
    "df['RH'].hist()\n",
    "# plot box plots for each variable\n",
    "df['AT'].plot.box()\n",
    "df['V'].plot.box()\n",
    "df['AP'].plot.box()\n",
    "df['RH'].plot.box()\n",
    "df['PE'].plot.box()\n",
    "\"\"\""
   ]
  },
  {
   "cell_type": "code",
   "execution_count": 25,
   "metadata": {},
   "outputs": [
    {
     "data": {
      "text/plain": [
       "\"\\nimport pandas as pd\\ndf = pd.read_csv('cancer_data_edited.csv')\\ndf.head()\\ndf_m = df[df['diagnosis'] == 'M'] -> check for only malignant tumors\\ndf_m.head()\\n\""
      ]
     },
     "execution_count": 25,
     "metadata": {},
     "output_type": "execute_result"
    }
   ],
   "source": [
    "# drawing conclusions\n",
    "\"\"\"\n",
    "import pandas as pd\n",
    "df = pd.read_csv('cancer_data_edited.csv')\n",
    "df.head()\n",
    "df_m = df[df['diagnosis'] == 'M'] -> check for only malignant tumors\n",
    "df_m.head()\n",
    "\"\"\""
   ]
  },
  {
   "cell_type": "code",
   "execution_count": 26,
   "metadata": {},
   "outputs": [
    {
     "data": {
      "text/plain": [
       "\"\\nmask = df['diagnosis'] == 'M'\\ndf_m = df[mask]\\ndf_m\\n\""
      ]
     },
     "execution_count": 26,
     "metadata": {},
     "output_type": "execute_result"
    }
   ],
   "source": [
    "# creating a mask\n",
    "\"\"\"\n",
    "mask = df['diagnosis'] == 'M'\n",
    "df_m = df[mask]\n",
    "df_m\n",
    "\"\"\""
   ]
  },
  {
   "cell_type": "code",
   "execution_count": 27,
   "metadata": {},
   "outputs": [
    {
     "data": {
      "text/plain": [
       "\"\\nlooking at area data\\ndf_m['area'].describe()\\n\""
      ]
     },
     "execution_count": 27,
     "metadata": {},
     "output_type": "execute_result"
    }
   ],
   "source": [
    "\"\"\"\n",
    "#looking at area data\n",
    "df_m['area'].describe()\n",
    "\"\"\""
   ]
  },
  {
   "cell_type": "code",
   "execution_count": 29,
   "metadata": {},
   "outputs": [
    {
     "data": {
      "text/plain": [
       "\"\\n# look at bening tumors and compare them using mean\\ndf_b = df[df['diagnosis'] == 'B']\\ndf_b['area'].describe()\\n''{0:4f} while that of beningn tumors is {1:.4f}'.format(df_m['area'].mean(),df_b['area'].mean())\\n\""
      ]
     },
     "execution_count": 29,
     "metadata": {},
     "output_type": "execute_result"
    }
   ],
   "source": [
    "\"\"\"\n",
    "# look at bening tumors and compare them using mean\n",
    "df_b = df[df['diagnosis'] == 'B']\n",
    "df_b['area'].describe()\n",
    "''{0:4f} while that of beningn tumors is {1:.4f}'.format(df_m['area'].mean(),df_b['area'].mean())\n",
    "\"\"\""
   ]
  },
  {
   "cell_type": "code",
   "execution_count": 30,
   "metadata": {},
   "outputs": [
    {
     "data": {
      "text/plain": [
       "\"\\nimport matplotlib.pyplot as plt\\n% matplotlib inline\\n\\nfig, ax = plt.subplots(figsize=(8,6))\\nax.hist(df_b['area'], alpha=0.5, label='benign')\\nax.hist(df_m['area'], alpha=0.5, label='malignant')\\nax.set_title('Distributions of Benign and Malignant Tumor Areas')\\nax.set_xlabel('Area')\\nax.set_ylabel('Count')\\nax.legend(loc='upper right')\\nplot.show()\\n\\n\""
      ]
     },
     "execution_count": 30,
     "metadata": {},
     "output_type": "execute_result"
    }
   ],
   "source": [
    "\"hist for both distributions\"\n",
    "\"\"\"\n",
    "import matplotlib.pyplot as plt\n",
    "% matplotlib inline\n",
    "\n",
    "fig, ax = plt.subplots(figsize=(8,6))\n",
    "ax.hist(df_b['area'], alpha=0.5, label='benign')\n",
    "ax.hist(df_m['area'], alpha=0.5, label='malignant')\n",
    "ax.set_title('Distributions of Benign and Malignant Tumor Areas')\n",
    "ax.set_xlabel('Area')\n",
    "ax.set_ylabel('Count')\n",
    "ax.legend(loc='upper right')\n",
    "plot.show()\n",
    "\n",
    "\"\"\""
   ]
  },
  {
   "cell_type": "code",
   "execution_count": 32,
   "metadata": {},
   "outputs": [
    {
     "data": {
      "text/plain": [
       "\"\\ndf_a = df_census[df_census['income'] == ' >50K']\\ndf_b = df_census[df_census['income'] == ' <= 50K']\\ndf_b['education'].value_counts().plot(kind='bar)\\n\""
      ]
     },
     "execution_count": 32,
     "metadata": {},
     "output_type": "execute_result"
    }
   ],
   "source": [
    "\"\"\"\n",
    "import pandas as pd\n",
    "% matplotlib inline\n",
    "\n",
    "df_census = pd.read_csv('census_income_data.csv')\n",
    "\"\"\"\n",
    "\"\"\"\n",
    "df_a = df_census[df_census['income'] == ' >50K']\n",
    "df_b = df_census[df_census['income'] == ' <= 50K']\n",
    "df_b['education'].value_counts().plot(kind='bar)\n",
    "\"\"\"\n",
    "\n",
    "\n"
   ]
  },
  {
   "cell_type": "code",
   "execution_count": 33,
   "metadata": {},
   "outputs": [
    {
     "data": {
      "text/plain": [
       "\"\\ndf_a['age'].hist();\\ndf_b['age'].hist();\\ndf_a['age'].describe()\\ndf_b['age'].describe()\\n\""
      ]
     },
     "execution_count": 33,
     "metadata": {},
     "output_type": "execute_result"
    }
   ],
   "source": [
    "\"\"\"\n",
    "ind = df_a['education'].value_counts().index\n",
    "df_a['education'].value_counts()[ind].plot(kind='bar');\n",
    "\"\"\"\n",
    "\"\"\"\n",
    "ind = df_a['workclass'].value_counts().index\n",
    "df_a['workclass'].value_counts()[ind].plot(kind='pie',figsize=(8,8))\n",
    "\"\"\"\n",
    "\"\"\"\n",
    "df_a['age'].hist();\n",
    "df_b['age'].hist();\n",
    "df_a['age'].describe()\n",
    "df_b['age'].describe()\n",
    "\"\"\""
   ]
  },
  {
   "cell_type": "code",
   "execution_count": null,
   "metadata": {
    "collapsed": true
   },
   "outputs": [],
   "source": [
    "\"\"\"\n",
    "# imports and load data\n",
    "import pandas as pd\n",
    "df = pd.read_csv('store_data.csv')\n",
    "df.head()\n",
    "\n",
    "#explore data\n",
    "df.shape\n",
    "#produces (200,6)\n",
    "\n",
    "#sales for the last month\n",
    "df.tail(1)\n",
    "# prints out 199th row because index is 0\n",
    "\n",
    "# sales for the week of March 13th, 2016\n",
    "week_wanted = df.loc[df['week'] == '2016-03-13']\n",
    "week_wanted.head()\n",
    "week_wanted.shape\n",
    "#gives (1, 6)\n",
    "\n",
    "# sales for the latest 3 month periods\n",
    "df.tail(3)\n",
    "\"\"\"\n"
   ]
  }
 ],
 "metadata": {
  "kernelspec": {
   "display_name": "Python 2",
   "language": "python",
   "name": "python2"
  },
  "language_info": {
   "codemirror_mode": {
    "name": "ipython",
    "version": 2
   },
   "file_extension": ".py",
   "mimetype": "text/x-python",
   "name": "python",
   "nbconvert_exporter": "python",
   "pygments_lexer": "ipython2",
   "version": "2.7.14"
  }
 },
 "nbformat": 4,
 "nbformat_minor": 2
}
